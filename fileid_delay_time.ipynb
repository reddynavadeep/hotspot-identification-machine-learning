{
  "cells": [
    {
      "metadata": {
        "trusted": true
      },
      "cell_type": "code",
      "source": "import pandas as pd\n#import d6tstack\n\n#from openpyxl import Workbook, load_workbook\nfrom pandas import ExcelWriter\nfrom pandas import ExcelFile\nimport numpy as np",
      "execution_count": 12,
      "outputs": []
    },
    {
      "metadata": {
        "trusted": true
      },
      "cell_type": "code",
      "source": "dfr=pd.read_excel('linkdatalist.xlsx')\ndfrlist=dfr.values.tolist()\ndfr.columns",
      "execution_count": 13,
      "outputs": [
        {
          "output_type": "execute_result",
          "execution_count": 13,
          "data": {
            "text/plain": "Index(['id', 'trainno', 'linkid', 'delay'], dtype='object')"
          },
          "metadata": {}
        }
      ]
    },
    {
      "metadata": {
        "trusted": true
      },
      "cell_type": "code",
      "source": "dfo=pd.read_excel('Official_Schedules_filtered.xlsx')\ndfolist=dfo.values.tolist()\ndfli=pd.read_excel('linkdata.xlsx')\ndflist=dfli.values.tolist()\ntowrite4 = pd.DataFrame(columns=['id','delay', 'time'])",
      "execution_count": 14,
      "outputs": []
    },
    {
      "metadata": {
        "trusted": true
      },
      "cell_type": "code",
      "source": "dfo.columns",
      "execution_count": 15,
      "outputs": [
        {
          "output_type": "execute_result",
          "execution_count": 15,
          "data": {
            "text/plain": "Index(['trainno', 'from', 'to', 'arrival'], dtype='object')"
          },
          "metadata": {}
        }
      ]
    },
    {
      "metadata": {
        "trusted": true
      },
      "cell_type": "code",
      "source": "dfli.columns",
      "execution_count": 16,
      "outputs": [
        {
          "output_type": "execute_result",
          "execution_count": 16,
          "data": {
            "text/plain": "Index(['linkid', 'from', 'to'], dtype='object')"
          },
          "metadata": {}
        }
      ]
    },
    {
      "metadata": {
        "trusted": true
      },
      "cell_type": "code",
      "source": "fromsta=\" \"\ntosta=\" \"\ntrainno=\"\"\nidinsert=0\nflag=0\nl=0\nfor i in range(0,len(dfr)):\n    flag=0\n    idinsert=dfrlist[i][0]\n    trainno=dfrlist[i][1]\n    linkid=dfrlist[i][2]\n    delay=dfrlist[i][3]\n    #print(linkid)\n    #print(dflist[linkid-1][0])\n    for k in range(0,len(dflist)):\n        if(linkid==dflist[k][0]):\n            fromsta=dflist[k][1]\n            tosta=dflist[k][2]\n            break\n    for j in range(0,len(dfolist)):\n        if(trainno==dfolist[j][0]):\n            #print(trainno)\n            if(fromsta==dfolist[j][1] and tosta==dfolist[j][2]):\n                towrite4=towrite4.append({'id':idinsert,'delay':delay,'time':dfolist[j][3]}, ignore_index=True)\n                #print(dfolist[j][1])\n                l=l+1\n                flag=1\n                break\n    if(flag!=1):\n        print(\"fromstation\")\n        print(fromsta)\n        print(\"tostation\")\n        print(tosta)\n        print(\"linkid\")\n        print(linkid)\n        print(\"trainno\")\n        print(trainno)\n                 \n\n    \n",
      "execution_count": 17,
      "outputs": []
    },
    {
      "metadata": {
        "trusted": true
      },
      "cell_type": "code",
      "source": "writer = ExcelWriter('delaydatafinal.xlsx')\ntowrite4.to_excel(writer,'Sheet1',index=False)\nwriter.save()",
      "execution_count": 18,
      "outputs": []
    },
    {
      "metadata": {
        "trusted": true
      },
      "cell_type": "code",
      "source": "",
      "execution_count": null,
      "outputs": []
    }
  ],
  "metadata": {
    "kernelspec": {
      "name": "python2",
      "display_name": "Python 2",
      "language": "python"
    },
    "language_info": {
      "mimetype": "text/x-python",
      "nbconvert_exporter": "python",
      "name": "python",
      "pygments_lexer": "ipython2",
      "version": "2.7.15",
      "file_extension": ".py",
      "codemirror_mode": {
        "version": 2,
        "name": "ipython"
      }
    }
  },
  "nbformat": 4,
  "nbformat_minor": 2
}