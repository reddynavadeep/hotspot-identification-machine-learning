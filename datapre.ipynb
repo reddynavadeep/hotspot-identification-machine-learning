{
  "cells": [
    {
      "metadata": {
        "trusted": true
      },
      "cell_type": "code",
      "source": "import pandas as pd\n#import d6tstack\n\n#from openpyxl import Workbook, load_workbook\nfrom pandas import ExcelWriter\nfrom pandas import ExcelFile\nimport numpy as np\n\nxls = pd.ExcelFile('dataset.xlsx')\ntowrite1  = pd.DataFrame(columns=['trainno', 'from', 'to','delay'])\n# Now you can list all sheets in the file\nlisttrainnames=xls.sheet_names\n# ['house', 'house_extra', ...]\n\n# to read just one sheet to dataframe:\nfor i in range(0,len(listtrainnames)):\n    trainh=listtrainnames[i]\n    \n    df = pd.read_excel('dataset.xlsx', sheet_name=trainh)\n    tp=trainh.find('-')\n    trainu=trainh[0:tp]\n    x=[]\n    x=list(df.columns.values.tolist())\n    s=[]\n    for x1 in x:\n        i=x1.find('\\n')\n        x1=x1[0:i]\n        s.append(x1)\n    \n    df.rename(columns=dict(zip(df.columns[0:], s)),inplace=True)\n\n\n# to read all sheets to a map\n    df['trainno'] = trainu\n    df=df.set_index('trainno')\n    df=df.fillna('0 Mins')\n    towrite  = pd.DataFrame(columns=['trainno', 'from', 'to','delay'])\n# creating a blank series \n    Type_new = pd.Series([]) \n    trainno=trainu\n#df.dtypes\n    x=list(df.columns.values.tolist())\n    rowlen=df.shape[0]\n    l=[]\n\n\n\n#df.columns.get_loc(key, method=None, tolerance=None)\n    for j in range(0,rowlen):\n        l=df.iloc[j]\n    \n        for i in range(0,len(x)-1):\n            y=x[i]\n            z=x[i+1]\n            w=l[i+1]\n            towrite=towrite.append({'trainno':trainno, 'from':y,'to':z,'delay':w}, ignore_index=True)\n    \n    lisdelay=[]\n    lisdelay=list(towrite['delay'])\n##lisdelay\n    for i in range(0,len(lisdelay)):\n        if(lisdelay[i]=='-'):\n            lisdelay[i]='0 Mins'\n        if(lisdelay[i]=='No Delay'):\n            lisdelay[i]='0 Mins'\n            \n        \n    x=''\n    store=0\n    store1=1\n    for i in range(0,len(lisdelay)):\n        x1=lisdelay[i].find('M')\n    \n        x=lisdelay[i][0:x1-1]\n    \n        if(len(x)>2):\n            x4=lisdelay[i].find('M')\n            x5=lisdelay[i][x4-3:x4-1]\n            x5=int(x5)\n            store=store+x5\n            x2=lisdelay[i].find('H')\n            x3=lisdelay[i][0:x2-1]\n        #lisdelay[i]=lisdelay[i][0:x2-1]\n            x3=int(x3)\n            store1=x3*60\n        \n            lisdelay[i]=store+store1\n        else:\n            x4=lisdelay[i].find('M')\n            x5=lisdelay[i][0:x4-1]\n            x5=int(x)\n        #store=store+x5\n            lisdelay[i]=x5\n        store=1\n\n        \n##lisdelay\n    \n#print(\"done\")\n\n    towrite['delay']=pd.DataFrame(lisdelay)\n\n    towrite1=towrite1.append(towrite)\ntowrite1",
      "execution_count": 1,
      "outputs": [
        {
          "output_type": "execute_result",
          "execution_count": 1,
          "data": {
            "text/plain": "    trainno             from               to delay\n0     12625  Trivandrum Cntl  Varkalasivagiri    25\n1     12625  Varkalasivagiri           Kollam    24\n2     12625           Kollam       Kayankulam    25\n3     12625       Kayankulam       Mavelikara    28\n4     12625       Mavelikara       Chengannur    33\n5     12625       Chengannur        Tiruvalla    34\n6     12625        Tiruvalla     Changanaseri    31\n7     12625     Changanaseri         Kottayam    31\n8     12625         Kottayam           Vaikom    36\n9     12625           Vaikom   Ernakulam Town    19\n10    12625   Ernakulam Town            Aluva    27\n11    12625            Aluva          Thrisur    31\n12    12625          Thrisur       Ottappalam    30\n13    12625       Ottappalam         Palakkad    31\n14    12625         Palakkad       Coimbatore    34\n15    12625       Coimbatore         Tiruppur    34\n16    12625         Tiruppur            Erode    30\n17    12625            Erode            Salem    30\n18    12625            Salem      Jolarpettai    48\n19    12625      Jolarpettai          Katpadi    34\n20    12625          Katpadi         Chittoor    45\n21    12625         Chittoor         Tirupati    45\n22    12625         Tirupati        Renigunta    46\n23    12625        Renigunta            Gudur    46\n24    12625            Gudur          Nellore    55\n25    12625          Nellore       Vijayawada    28\n26    12625       Vijayawada         Warangal    46\n27    12625         Warangal       Ramagundam    40\n28    12625       Ramagundam       Balharshah    27\n29    12625       Balharshah       Chandrapur    38\n..      ...              ...              ...   ...\n570   12522         Sevagram           Nagpur    21\n571   12522           Nagpur        Pandhurna    27\n572   12522        Pandhurna             Amla    33\n573   12522             Amla            Betul    36\n574   12522            Betul      Ghoradongri    39\n575   12522      Ghoradongri           Itarsi     0\n576   12522           Itarsi           Bhopal     0\n577   12522           Bhopal         Lalitpur     0\n578   12522         Lalitpur           Jhansi     0\n579   12522           Jhansi             Orai     0\n580   12522             Orai        Pokhrayan     0\n581   12522        Pokhrayan   Kanpur Central     0\n582   12522   Kanpur Central            Unnao     0\n583   12522            Unnao         Aishbagh     0\n584   12522         Aishbagh     Badshahnagar     0\n585   12522     Badshahnagar        Barabanki     0\n586   12522        Barabanki            Gonda     0\n587   12522            Gonda         Mankapur     0\n588   12522         Mankapur            Basti     0\n589   12522            Basti       Khalilabad     0\n590   12522       Khalilabad        Gorakhpur     0\n591   12522        Gorakhpur     Deoria Sadar     0\n592   12522     Deoria Sadar           Bhatni     0\n593   12522           Bhatni            Siwan     0\n594   12522            Siwan          Chhapra     0\n595   12522          Chhapra           Sonpur     0\n596   12522           Sonpur          Hajipur     0\n597   12522          Hajipur      Muzaffarpur     0\n598   12522      Muzaffarpur       Samastipur     0\n599   12522       Samastipur          Barauni     0\n\n[10127 rows x 4 columns]",
            "text/html": "<div>\n<style scoped>\n    .dataframe tbody tr th:only-of-type {\n        vertical-align: middle;\n    }\n\n    .dataframe tbody tr th {\n        vertical-align: top;\n    }\n\n    .dataframe thead th {\n        text-align: right;\n    }\n</style>\n<table border=\"1\" class=\"dataframe\">\n  <thead>\n    <tr style=\"text-align: right;\">\n      <th></th>\n      <th>trainno</th>\n      <th>from</th>\n      <th>to</th>\n      <th>delay</th>\n    </tr>\n  </thead>\n  <tbody>\n    <tr>\n      <th>0</th>\n      <td>12625</td>\n      <td>Trivandrum Cntl</td>\n      <td>Varkalasivagiri</td>\n      <td>25</td>\n    </tr>\n    <tr>\n      <th>1</th>\n      <td>12625</td>\n      <td>Varkalasivagiri</td>\n      <td>Kollam</td>\n      <td>24</td>\n    </tr>\n    <tr>\n      <th>2</th>\n      <td>12625</td>\n      <td>Kollam</td>\n      <td>Kayankulam</td>\n      <td>25</td>\n    </tr>\n    <tr>\n      <th>3</th>\n      <td>12625</td>\n      <td>Kayankulam</td>\n      <td>Mavelikara</td>\n      <td>28</td>\n    </tr>\n    <tr>\n      <th>4</th>\n      <td>12625</td>\n      <td>Mavelikara</td>\n      <td>Chengannur</td>\n      <td>33</td>\n    </tr>\n    <tr>\n      <th>5</th>\n      <td>12625</td>\n      <td>Chengannur</td>\n      <td>Tiruvalla</td>\n      <td>34</td>\n    </tr>\n    <tr>\n      <th>6</th>\n      <td>12625</td>\n      <td>Tiruvalla</td>\n      <td>Changanaseri</td>\n      <td>31</td>\n    </tr>\n    <tr>\n      <th>7</th>\n      <td>12625</td>\n      <td>Changanaseri</td>\n      <td>Kottayam</td>\n      <td>31</td>\n    </tr>\n    <tr>\n      <th>8</th>\n      <td>12625</td>\n      <td>Kottayam</td>\n      <td>Vaikom</td>\n      <td>36</td>\n    </tr>\n    <tr>\n      <th>9</th>\n      <td>12625</td>\n      <td>Vaikom</td>\n      <td>Ernakulam Town</td>\n      <td>19</td>\n    </tr>\n    <tr>\n      <th>10</th>\n      <td>12625</td>\n      <td>Ernakulam Town</td>\n      <td>Aluva</td>\n      <td>27</td>\n    </tr>\n    <tr>\n      <th>11</th>\n      <td>12625</td>\n      <td>Aluva</td>\n      <td>Thrisur</td>\n      <td>31</td>\n    </tr>\n    <tr>\n      <th>12</th>\n      <td>12625</td>\n      <td>Thrisur</td>\n      <td>Ottappalam</td>\n      <td>30</td>\n    </tr>\n    <tr>\n      <th>13</th>\n      <td>12625</td>\n      <td>Ottappalam</td>\n      <td>Palakkad</td>\n      <td>31</td>\n    </tr>\n    <tr>\n      <th>14</th>\n      <td>12625</td>\n      <td>Palakkad</td>\n      <td>Coimbatore</td>\n      <td>34</td>\n    </tr>\n    <tr>\n      <th>15</th>\n      <td>12625</td>\n      <td>Coimbatore</td>\n      <td>Tiruppur</td>\n      <td>34</td>\n    </tr>\n    <tr>\n      <th>16</th>\n      <td>12625</td>\n      <td>Tiruppur</td>\n      <td>Erode</td>\n      <td>30</td>\n    </tr>\n    <tr>\n      <th>17</th>\n      <td>12625</td>\n      <td>Erode</td>\n      <td>Salem</td>\n      <td>30</td>\n    </tr>\n    <tr>\n      <th>18</th>\n      <td>12625</td>\n      <td>Salem</td>\n      <td>Jolarpettai</td>\n      <td>48</td>\n    </tr>\n    <tr>\n      <th>19</th>\n      <td>12625</td>\n      <td>Jolarpettai</td>\n      <td>Katpadi</td>\n      <td>34</td>\n    </tr>\n    <tr>\n      <th>20</th>\n      <td>12625</td>\n      <td>Katpadi</td>\n      <td>Chittoor</td>\n      <td>45</td>\n    </tr>\n    <tr>\n      <th>21</th>\n      <td>12625</td>\n      <td>Chittoor</td>\n      <td>Tirupati</td>\n      <td>45</td>\n    </tr>\n    <tr>\n      <th>22</th>\n      <td>12625</td>\n      <td>Tirupati</td>\n      <td>Renigunta</td>\n      <td>46</td>\n    </tr>\n    <tr>\n      <th>23</th>\n      <td>12625</td>\n      <td>Renigunta</td>\n      <td>Gudur</td>\n      <td>46</td>\n    </tr>\n    <tr>\n      <th>24</th>\n      <td>12625</td>\n      <td>Gudur</td>\n      <td>Nellore</td>\n      <td>55</td>\n    </tr>\n    <tr>\n      <th>25</th>\n      <td>12625</td>\n      <td>Nellore</td>\n      <td>Vijayawada</td>\n      <td>28</td>\n    </tr>\n    <tr>\n      <th>26</th>\n      <td>12625</td>\n      <td>Vijayawada</td>\n      <td>Warangal</td>\n      <td>46</td>\n    </tr>\n    <tr>\n      <th>27</th>\n      <td>12625</td>\n      <td>Warangal</td>\n      <td>Ramagundam</td>\n      <td>40</td>\n    </tr>\n    <tr>\n      <th>28</th>\n      <td>12625</td>\n      <td>Ramagundam</td>\n      <td>Balharshah</td>\n      <td>27</td>\n    </tr>\n    <tr>\n      <th>29</th>\n      <td>12625</td>\n      <td>Balharshah</td>\n      <td>Chandrapur</td>\n      <td>38</td>\n    </tr>\n    <tr>\n      <th>...</th>\n      <td>...</td>\n      <td>...</td>\n      <td>...</td>\n      <td>...</td>\n    </tr>\n    <tr>\n      <th>570</th>\n      <td>12522</td>\n      <td>Sevagram</td>\n      <td>Nagpur</td>\n      <td>21</td>\n    </tr>\n    <tr>\n      <th>571</th>\n      <td>12522</td>\n      <td>Nagpur</td>\n      <td>Pandhurna</td>\n      <td>27</td>\n    </tr>\n    <tr>\n      <th>572</th>\n      <td>12522</td>\n      <td>Pandhurna</td>\n      <td>Amla</td>\n      <td>33</td>\n    </tr>\n    <tr>\n      <th>573</th>\n      <td>12522</td>\n      <td>Amla</td>\n      <td>Betul</td>\n      <td>36</td>\n    </tr>\n    <tr>\n      <th>574</th>\n      <td>12522</td>\n      <td>Betul</td>\n      <td>Ghoradongri</td>\n      <td>39</td>\n    </tr>\n    <tr>\n      <th>575</th>\n      <td>12522</td>\n      <td>Ghoradongri</td>\n      <td>Itarsi</td>\n      <td>0</td>\n    </tr>\n    <tr>\n      <th>576</th>\n      <td>12522</td>\n      <td>Itarsi</td>\n      <td>Bhopal</td>\n      <td>0</td>\n    </tr>\n    <tr>\n      <th>577</th>\n      <td>12522</td>\n      <td>Bhopal</td>\n      <td>Lalitpur</td>\n      <td>0</td>\n    </tr>\n    <tr>\n      <th>578</th>\n      <td>12522</td>\n      <td>Lalitpur</td>\n      <td>Jhansi</td>\n      <td>0</td>\n    </tr>\n    <tr>\n      <th>579</th>\n      <td>12522</td>\n      <td>Jhansi</td>\n      <td>Orai</td>\n      <td>0</td>\n    </tr>\n    <tr>\n      <th>580</th>\n      <td>12522</td>\n      <td>Orai</td>\n      <td>Pokhrayan</td>\n      <td>0</td>\n    </tr>\n    <tr>\n      <th>581</th>\n      <td>12522</td>\n      <td>Pokhrayan</td>\n      <td>Kanpur Central</td>\n      <td>0</td>\n    </tr>\n    <tr>\n      <th>582</th>\n      <td>12522</td>\n      <td>Kanpur Central</td>\n      <td>Unnao</td>\n      <td>0</td>\n    </tr>\n    <tr>\n      <th>583</th>\n      <td>12522</td>\n      <td>Unnao</td>\n      <td>Aishbagh</td>\n      <td>0</td>\n    </tr>\n    <tr>\n      <th>584</th>\n      <td>12522</td>\n      <td>Aishbagh</td>\n      <td>Badshahnagar</td>\n      <td>0</td>\n    </tr>\n    <tr>\n      <th>585</th>\n      <td>12522</td>\n      <td>Badshahnagar</td>\n      <td>Barabanki</td>\n      <td>0</td>\n    </tr>\n    <tr>\n      <th>586</th>\n      <td>12522</td>\n      <td>Barabanki</td>\n      <td>Gonda</td>\n      <td>0</td>\n    </tr>\n    <tr>\n      <th>587</th>\n      <td>12522</td>\n      <td>Gonda</td>\n      <td>Mankapur</td>\n      <td>0</td>\n    </tr>\n    <tr>\n      <th>588</th>\n      <td>12522</td>\n      <td>Mankapur</td>\n      <td>Basti</td>\n      <td>0</td>\n    </tr>\n    <tr>\n      <th>589</th>\n      <td>12522</td>\n      <td>Basti</td>\n      <td>Khalilabad</td>\n      <td>0</td>\n    </tr>\n    <tr>\n      <th>590</th>\n      <td>12522</td>\n      <td>Khalilabad</td>\n      <td>Gorakhpur</td>\n      <td>0</td>\n    </tr>\n    <tr>\n      <th>591</th>\n      <td>12522</td>\n      <td>Gorakhpur</td>\n      <td>Deoria Sadar</td>\n      <td>0</td>\n    </tr>\n    <tr>\n      <th>592</th>\n      <td>12522</td>\n      <td>Deoria Sadar</td>\n      <td>Bhatni</td>\n      <td>0</td>\n    </tr>\n    <tr>\n      <th>593</th>\n      <td>12522</td>\n      <td>Bhatni</td>\n      <td>Siwan</td>\n      <td>0</td>\n    </tr>\n    <tr>\n      <th>594</th>\n      <td>12522</td>\n      <td>Siwan</td>\n      <td>Chhapra</td>\n      <td>0</td>\n    </tr>\n    <tr>\n      <th>595</th>\n      <td>12522</td>\n      <td>Chhapra</td>\n      <td>Sonpur</td>\n      <td>0</td>\n    </tr>\n    <tr>\n      <th>596</th>\n      <td>12522</td>\n      <td>Sonpur</td>\n      <td>Hajipur</td>\n      <td>0</td>\n    </tr>\n    <tr>\n      <th>597</th>\n      <td>12522</td>\n      <td>Hajipur</td>\n      <td>Muzaffarpur</td>\n      <td>0</td>\n    </tr>\n    <tr>\n      <th>598</th>\n      <td>12522</td>\n      <td>Muzaffarpur</td>\n      <td>Samastipur</td>\n      <td>0</td>\n    </tr>\n    <tr>\n      <th>599</th>\n      <td>12522</td>\n      <td>Samastipur</td>\n      <td>Barauni</td>\n      <td>0</td>\n    </tr>\n  </tbody>\n</table>\n<p>10127 rows × 4 columns</p>\n</div>"
          },
          "metadata": {}
        }
      ]
    },
    {
      "metadata": {
        "trusted": true
      },
      "cell_type": "code",
      "source": "writer = ExcelWriter('delaydata.xlsx')\ntowrite1.to_excel(writer,'Sheet1',index=False)\nwriter.save()\ndf1=pd.read_excel('delaydata.xlsx')\n\n\n\n#########\n#xls1 = pd.ExcelFile('official_schedules.xlsx')\n\n# Now you can list all sheets in the file\n",
      "execution_count": 2,
      "outputs": []
    },
    {
      "metadata": {
        "trusted": true
      },
      "cell_type": "code",
      "source": "'''import pandas as pd\nstationlist=pd.read_excel('stationlist (1).xlsx')\nstationname=list(stationlist)\nstationname\n#stationcode=list(stationlist['code'])\n'''",
      "execution_count": null,
      "outputs": []
    },
    {
      "metadata": {
        "trusted": true
      },
      "cell_type": "code",
      "source": "'''import pandas as pd\nstationlist=pd.read_excel('stationlist (1).xlsx')\nstationlist=stationlist.fillna('$')\nstationlist=stationlist[stationlist.STAT != '$']\nstationlist'''\n",
      "execution_count": null,
      "outputs": []
    },
    {
      "metadata": {
        "trusted": true
      },
      "cell_type": "code",
      "source": "from pandas import ExcelWriter\nfrom pandas import ExcelFile\n",
      "execution_count": 3,
      "outputs": []
    },
    {
      "metadata": {
        "trusted": true
      },
      "cell_type": "code",
      "source": "''''''writer2 = ExcelWriter('stationdata.xlsx')\nstationlist.to_excel(writer2,'Sheet1',index=False)\nwriter2.save()\ndf1=pd.read_excel('stationdata.xlsx')''''''",
      "execution_count": 5,
      "outputs": [
        {
          "output_type": "error",
          "ename": "SyntaxError",
          "evalue": "invalid syntax (<ipython-input-5-cbc621cab21d>, line 1)",
          "traceback": [
            "\u001b[0;36m  File \u001b[0;32m\"<ipython-input-5-cbc621cab21d>\"\u001b[0;36m, line \u001b[0;32m1\u001b[0m\n\u001b[0;31m    ''''''writer2 = ExcelWriter('stationdata.xlsx')\u001b[0m\n\u001b[0m                ^\u001b[0m\n\u001b[0;31mSyntaxError\u001b[0m\u001b[0;31m:\u001b[0m invalid syntax\n"
          ]
        }
      ]
    },
    {
      "metadata": {
        "trusted": true
      },
      "cell_type": "code",
      "source": "#dfsd = pd.read_excel('official_schedules.xlsx', sheet_name=\"12625-kerala\")\ndf1=pd.read_excel('stationdata.xlsx')\ndf1",
      "execution_count": null,
      "outputs": []
    },
    {
      "metadata": {
        "trusted": true
      },
      "cell_type": "code",
      "source": "\n        ",
      "execution_count": null,
      "outputs": []
    },
    {
      "metadata": {
        "trusted": true
      },
      "cell_type": "code",
      "source": "",
      "execution_count": null,
      "outputs": []
    },
    {
      "metadata": {
        "trusted": true
      },
      "cell_type": "code",
      "source": "",
      "execution_count": null,
      "outputs": []
    },
    {
      "metadata": {
        "trusted": true
      },
      "cell_type": "code",
      "source": "\n",
      "execution_count": null,
      "outputs": []
    },
    {
      "metadata": {
        "trusted": true
      },
      "cell_type": "code",
      "source": "\n        \n    ",
      "execution_count": null,
      "outputs": []
    },
    {
      "metadata": {
        "trusted": true
      },
      "cell_type": "code",
      "source": "\n",
      "execution_count": null,
      "outputs": []
    },
    {
      "metadata": {
        "trusted": true
      },
      "cell_type": "code",
      "source": "",
      "execution_count": null,
      "outputs": []
    },
    {
      "metadata": {
        "trusted": true
      },
      "cell_type": "code",
      "source": "",
      "execution_count": null,
      "outputs": []
    },
    {
      "metadata": {
        "trusted": true
      },
      "cell_type": "code",
      "source": "",
      "execution_count": null,
      "outputs": []
    },
    {
      "metadata": {
        "trusted": true
      },
      "cell_type": "code",
      "source": "",
      "execution_count": null,
      "outputs": []
    }
  ],
  "metadata": {
    "kernelspec": {
      "name": "python2",
      "display_name": "Python 2",
      "language": "python"
    },
    "language_info": {
      "mimetype": "text/x-python",
      "nbconvert_exporter": "python",
      "name": "python",
      "pygments_lexer": "ipython2",
      "version": "2.7.15",
      "file_extension": ".py",
      "codemirror_mode": {
        "version": 2,
        "name": "ipython"
      }
    }
  },
  "nbformat": 4,
  "nbformat_minor": 2
}