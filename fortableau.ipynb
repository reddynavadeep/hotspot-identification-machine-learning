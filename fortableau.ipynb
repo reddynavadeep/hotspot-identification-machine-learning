{
  "cells": [
    {
      "metadata": {
        "trusted": true
      },
      "cell_type": "code",
      "source": "import pandas as pd\n#import d6tstack\n\n#from openpyxl import Workbook, load_workbook\nfrom pandas import ExcelWriter\nfrom pandas import ExcelFile\nimport numpy as np\n",
      "execution_count": 38,
      "outputs": []
    },
    {
      "metadata": {
        "trusted": true
      },
      "cell_type": "code",
      "source": "linkidfile=pd.read_excel('linkdata.xlsx')\n",
      "execution_count": 39,
      "outputs": []
    },
    {
      "metadata": {
        "trusted": true
      },
      "cell_type": "code",
      "source": "linkidlist=linkidfile.values.tolist()",
      "execution_count": 40,
      "outputs": []
    },
    {
      "metadata": {
        "trusted": true
      },
      "cell_type": "code",
      "source": "linkidfile.head(2)",
      "execution_count": 41,
      "outputs": [
        {
          "output_type": "execute_result",
          "execution_count": 41,
          "data": {
            "text/html": "<div>\n<style scoped>\n    .dataframe tbody tr th:only-of-type {\n        vertical-align: middle;\n    }\n\n    .dataframe tbody tr th {\n        vertical-align: top;\n    }\n\n    .dataframe thead th {\n        text-align: right;\n    }\n</style>\n<table border=\"1\" class=\"dataframe\">\n  <thead>\n    <tr style=\"text-align: right;\">\n      <th></th>\n      <th>linkid</th>\n      <th>from</th>\n      <th>to</th>\n    </tr>\n  </thead>\n  <tbody>\n    <tr>\n      <th>0</th>\n      <td>1</td>\n      <td>KPD</td>\n      <td>VN</td>\n    </tr>\n    <tr>\n      <th>1</th>\n      <td>2</td>\n      <td>KPD</td>\n      <td>AB</td>\n    </tr>\n  </tbody>\n</table>\n</div>",
            "text/plain": "   linkid from  to\n0       1  KPD  VN\n1       2  KPD  AB"
          },
          "metadata": {}
        }
      ]
    },
    {
      "metadata": {
        "trusted": true
      },
      "cell_type": "code",
      "source": "stationdata=pd.read_excel('stationdata.xlsx')\nstationdata.head(2)",
      "execution_count": 42,
      "outputs": [
        {
          "output_type": "execute_result",
          "execution_count": 42,
          "data": {
            "text/html": "<div>\n<style scoped>\n    .dataframe tbody tr th:only-of-type {\n        vertical-align: middle;\n    }\n\n    .dataframe tbody tr th {\n        vertical-align: top;\n    }\n\n    .dataframe thead th {\n        text-align: right;\n    }\n</style>\n<table border=\"1\" class=\"dataframe\">\n  <thead>\n    <tr style=\"text-align: right;\">\n      <th></th>\n      <th>STAT</th>\n      <th>code</th>\n      <th>latitude</th>\n      <th>longitude</th>\n    </tr>\n  </thead>\n  <tbody>\n    <tr>\n      <th>0</th>\n      <td>Coimbatore</td>\n      <td>CBE</td>\n      <td>11.016844</td>\n      <td>76.9558</td>\n    </tr>\n    <tr>\n      <th>1</th>\n      <td>Mgr Chennai Ctl</td>\n      <td>MAS</td>\n      <td>13.054040</td>\n      <td>80.2293</td>\n    </tr>\n  </tbody>\n</table>\n</div>",
            "text/plain": "              STAT code   latitude longitude\n0       Coimbatore  CBE  11.016844   76.9558\n1  Mgr Chennai Ctl  MAS  13.054040   80.2293"
          },
          "metadata": {}
        }
      ]
    },
    {
      "metadata": {
        "trusted": true
      },
      "cell_type": "code",
      "source": "clusterfile=pd.read_excel('clusters.xlsx')\nclusterfile.head(2)",
      "execution_count": 43,
      "outputs": [
        {
          "output_type": "execute_result",
          "execution_count": 43,
          "data": {
            "text/html": "<div>\n<style scoped>\n    .dataframe tbody tr th:only-of-type {\n        vertical-align: middle;\n    }\n\n    .dataframe tbody tr th {\n        vertical-align: top;\n    }\n\n    .dataframe thead th {\n        text-align: right;\n    }\n</style>\n<table border=\"1\" class=\"dataframe\">\n  <thead>\n    <tr style=\"text-align: right;\">\n      <th></th>\n      <th>0</th>\n    </tr>\n  </thead>\n  <tbody>\n    <tr>\n      <th>0</th>\n      <td>3</td>\n    </tr>\n    <tr>\n      <th>1</th>\n      <td>3</td>\n    </tr>\n  </tbody>\n</table>\n</div>",
            "text/plain": "   0\n0  3\n1  3"
          },
          "metadata": {}
        }
      ]
    },
    {
      "metadata": {
        "trusted": true
      },
      "cell_type": "code",
      "source": "stationlist=stationdata.values.tolist()\nclusterlist=clusterfile.values.tolist()\nclusterlist",
      "execution_count": 44,
      "outputs": [
        {
          "output_type": "execute_result",
          "execution_count": 44,
          "data": {
            "text/plain": "[[3],\n [3],\n [3],\n [3],\n [1],\n [1],\n [1],\n [1],\n [1],\n [1],\n [1],\n [1],\n [1],\n [1],\n [1],\n [1],\n [1],\n [1],\n [1],\n [1],\n [1],\n [1],\n [1],\n [1],\n [1],\n [1],\n [1],\n [1],\n [1],\n [1],\n [1],\n [1],\n [1],\n [1],\n [1],\n [4],\n [4],\n [4],\n [4],\n [4],\n [4],\n [4],\n [4],\n [4],\n [4],\n [1],\n [4],\n [4],\n [4],\n [4],\n [4],\n [4],\n [1],\n [4],\n [1],\n [1],\n [4],\n [4],\n [4],\n [4],\n [1],\n [1],\n [4],\n [4],\n [1],\n [1],\n [1],\n [1],\n [4],\n [4],\n [5],\n [5],\n [4],\n [4],\n [1],\n [5],\n [1],\n [4],\n [4],\n [4],\n [5],\n [1],\n [1],\n [1],\n [4],\n [4],\n [1],\n [4],\n [1],\n [1],\n [4],\n [4],\n [4],\n [4],\n [4],\n [4],\n [4],\n [4],\n [4],\n [2],\n [2],\n [2],\n [2],\n [4],\n [5],\n [5],\n [5],\n [5],\n [5],\n [2],\n [2],\n [0],\n [0],\n [2],\n [0],\n [2],\n [2],\n [2],\n [2],\n [2],\n [2],\n [5],\n [2],\n [5],\n [0],\n [0],\n [0],\n [0],\n [2],\n [2],\n [2],\n [0],\n [0],\n [0],\n [0],\n [0],\n [0],\n [0],\n [2],\n [2],\n [2],\n [2],\n [0],\n [0],\n [0],\n [0],\n [0],\n [2],\n [0],\n [0],\n [0],\n [2],\n [0],\n [2],\n [0],\n [2],\n [2],\n [0],\n [3],\n [3],\n [2],\n [2],\n [0],\n [0],\n [2],\n [2],\n [2],\n [2],\n [2],\n [0],\n [0],\n [0],\n [0],\n [0],\n [0],\n [0],\n [3],\n [2],\n [2],\n [0],\n [2],\n [2],\n [3],\n [0],\n [0],\n [2],\n [2],\n [3],\n [0],\n [0],\n [0],\n [0],\n [0],\n [2],\n [2],\n [0],\n [0],\n [0],\n [2],\n [0],\n [3],\n [2],\n [2],\n [2],\n [0],\n [0],\n [0],\n [2],\n [3],\n [0],\n [0],\n [0],\n [3],\n [3],\n [0],\n [2],\n [0],\n [2],\n [2],\n [0],\n [0],\n [3],\n [2],\n [0],\n [3],\n [0],\n [2],\n [0],\n [0],\n [2],\n [0],\n [2]]"
          },
          "metadata": {}
        }
      ]
    },
    {
      "metadata": {
        "trusted": true
      },
      "cell_type": "code",
      "source": "len(clusterlist)",
      "execution_count": 45,
      "outputs": [
        {
          "output_type": "execute_result",
          "execution_count": 45,
          "data": {
            "text/plain": "232"
          },
          "metadata": {}
        }
      ]
    },
    {
      "metadata": {
        "trusted": true
      },
      "cell_type": "code",
      "source": "towrite  = pd.DataFrame(columns=['clusterid', 'linkid', 'order','stationname','latitude','longitude'])",
      "execution_count": 46,
      "outputs": []
    },
    {
      "metadata": {
        "trusted": true
      },
      "cell_type": "code",
      "source": "def serch(code,stationdata):\n    for i in range(0,len(stationdata)):\n        if(code==stationdata[i][1]):\n            return i",
      "execution_count": 47,
      "outputs": []
    },
    {
      "metadata": {
        "trusted": true
      },
      "cell_type": "code",
      "source": "for i in range(0,len(linkidlist)):\n    print(\"code\")\n    print(linkidlist[i][1])\n    k=serch(linkidlist[i][1],stationlist)\n    print(k)\n    lat1=stationlist[k][2]\n    longq1=stationlist[k][3]\n    k1=serch(linkidlist[i][2],stationlist)\n    lat11=stationlist[k1][2]\n    longq11=stationlist[k1][3]\n    p=clusterlist[i]\n    \n    \n    \n    \n    \n    \n    towrite=towrite.append({'clusterid':p, 'linkid':linkidlist[i][0],'order':1,'stationname':linkidlist[i][1],'latitude':lat1,'longitude':longq1}, ignore_index=True)\n    towrite=towrite.append({'clusterid':p, 'linkid':linkidlist[i][0],'order':2,'stationname':linkidlist[i][2],'latitude':lat11,'longitude':longq11}, ignore_index=True)",
      "execution_count": 48,
      "outputs": [
        {
          "output_type": "stream",
          "text": "code\nKPD\n60\ncode\nKPD\n60\ncode\nKPD\n60\ncode\nKPD\n60\ncode\nKPD\n60\ncode\nKPD\n60\ncode\nKPD\n60\ncode\nKPD\n60\ncode\nVAK\n23\ncode\nVAK\n23\ncode\nVAK\n23\ncode\nVAK\n23\ncode\nVAK\n23\ncode\nMLMR\n53\ncode\nMLMR\n53\ncode\nMLMR\n53\ncode\nTUVR\n33\ncode\nTUVR\n33\ncode\nAFK\n2\ncode\nAFK\n2\ncode\nKYJ\n70\ncode\nKYJ\n70\ncode\nKYJ\n70\ncode\nKYJ\n70\ncode\nTEN\n69\ncode\nTEN\n69\ncode\nPASA\n50\ncode\nPASA\n50\ncode\nQLN\n34\ncode\nQLN\n34\ncode\nQLN\n34\ncode\nQLN\n34\ncode\nQLN\n34\ncode\nSRT\n10\ncode\nSRT\n10\ncode\nSRR\n65\ncode\nSRR\n65\ncode\nALU\n74\ncode\nALU\n74\ncode\nSDN\n62\ncode\nSDN\n62\ncode\nPNQ\n77\ncode\nPNQ\n77\ncode\nVN\n43\ncode\nVN\n43\ncode\nVN\n43\ncode\nMAKM\n7\ncode\nMAKM\n7\ncode\nSRTL\n38\ncode\nSRTL\n38\ncode\nSRTL\n38\ncode\nSRTL\n38\ncode\nNYY\n47\ncode\nNYY\n47\ncode\nNYY\n47\ncode\nVPT\n39\ncode\nVPT\n39\ncode\nVPT\n39\ncode\nDG\n66\ncode\nDG\n66\ncode\nDG\n66\ncode\nBQI\n8\ncode\nBQI\n8\ncode\nBQI\n8\ncode\nVM\n54\ncode\nVM\n54\ncode\nMBM\n21\ncode\nCVP\n72\ncode\nCVP\n72\ncode\nCVP\n72\ncode\nCBE\n0\ncode\nCBE\n0\ncode\nAB\n51\ncode\nKON\n5\ncode\nSA\n3\ncode\nSA\n3\ncode\nSA\n3\ncode\nTCR\n12\ncode\nTCR\n12\ncode\nTCR\n12\ncode\nTCR\n12\ncode\nTCR\n12\ncode\nTCR\n12\ncode\nTCR\n12\ncode\nTCR\n12\ncode\nTCR\n12\ncode\nTRTR\n68\ncode\nCAPE\n24\ncode\nTMV\n13\ncode\nTMV\n13\ncode\nSLY\n57\ncode\nSLY\n57\ncode\nHAD\n71\ncode\nMMK\n45\ncode\nMMK\n45\ncode\nSRGM\n76\ncode\nSRGM\n76\ncode\nVARD\n64\ncode\nVARD\n64\ncode\nKVU\n56\ncode\nKVU\n56\ncode\nAWY\n85\ncode\nAWY\n85\ncode\nAWY\n85\ncode\nAWY\n85\ncode\nTUP\n40\ncode\nTUP\n40\ncode\nMVLK\n16\ncode\nMVLK\n16\ncode\nMAS\n1\ncode\nMAS\n1\ncode\nMAS\n1\ncode\nGUV\n78\ncode\nKZT\n73\ncode\nKZT\n73\ncode\nKZT\n73\ncode\nCKI\n81\ncode\nCKI\n81\ncode\nTVP\n67\ncode\nWKI\n9\ncode\nWKI\n9\ncode\nPGT\n55\ncode\nPGT\n55\ncode\nPGT\n55\ncode\nALLP\n83\ncode\nALLP\n83\ncode\nCGL\n15\ncode\nCGL\n15\ncode\nCGL\n15\ncode\nIJK\n63\ncode\nIJK\n63\ncode\nMPA\n59\ncode\nMPA\n59\ncode\nTPJ\n80\ncode\nTPJ\n80\ncode\nTPJ\n80\ncode\nTPJ\n80\ncode\nPER\n18\ncode\nTBM\n26\ncode\nTBM\n26\ncode\nNNN\n35\ncode\nNNN\n35\ncode\nTPT\n37\ncode\nTPT\n37\ncode\nMCN\n22\ncode\nMCN\n22\ncode\nKQN\n17\ncode\nKQN\n17\ncode\nKQN\n17\ncode\nERS\n44\ncode\nERS\n44\ncode\nERS\n44\ncode\nERS\n44\ncode\nTVC\n49\ncode\nTVC\n49\ncode\nTVC\n49\ncode\nTVC\n49\ncode\nED\n46\ncode\nED\n46\ncode\nED\n46\ncode\nAJJ\n79\ncode\nAJJ\n79\ncode\nAJJ\n79\ncode\nAJJ\n79\ncode\nKPY\n41\ncode\nKPY\n41\ncode\nERL\n84\ncode\nERL\n84\ncode\nVRI\n25\ncode\nVRI\n25\ncode\nVRI\n25\ncode\nMDU\n27\ncode\nMDU\n27\ncode\nMDU\n27\ncode\nMDU\n27\ncode\nKTYM\n20\ncode\nKTYM\n20\ncode\nKTYM\n20\ncode\nKTYM\n20\ncode\nOTP\n31\ncode\nOTP\n31\ncode\nOTP\n31\ncode\nOTP\n31\ncode\nNPK\n58\ncode\nNPK\n58\ncode\nMS\n6\ncode\nCGY\n48\ncode\nCGY\n48\ncode\nTMQ\n28\ncode\nTMQ\n28\ncode\nTRL\n11\ncode\nTRL\n11\ncode\nNCJ\n86\ncode\nNCJ\n86\ncode\nNCJ\n86\ncode\nGYM\n61\ncode\nGYM\n61\ncode\nEKM\n14\ncode\nEKM\n14\ncode\nEKM\n14\ncode\nEKM\n14\ncode\nEKM\n14\ncode\nEKM\n14\ncode\nVLY\n29\ncode\nVLY\n29\ncode\nVLY\n29\ncode\nTRVL\n4\ncode\nTRVL\n4\ncode\nTRVL\n4\ncode\nKDU\n52\ncode\nKDU\n52\ncode\nCNGR\n30\ncode\nCNGR\n30\ncode\nCNGR\n30\ncode\nAAY\n32\ncode\nAAY\n32\ncode\nAAY\n32\ncode\nPVU\n75\ncode\nPVU\n75\ncode\nPNDM\n36\ncode\nPNDM\n36\ncode\nJTJ\n82\ncode\nJTJ\n82\ncode\nJTJ\n82\ncode\nJTJ\n82\ncode\nJTJ\n82\ncode\nCRY\n19\ncode\nCRY\n19\ncode\nCRY\n19\ncode\nMEJ\n42\ncode\nMEJ\n42\ncode\nMEJ\n42\n",
          "name": "stdout"
        }
      ]
    },
    {
      "metadata": {
        "trusted": true
      },
      "cell_type": "code",
      "source": "towrite",
      "execution_count": 49,
      "outputs": [
        {
          "output_type": "execute_result",
          "execution_count": 49,
          "data": {
            "text/html": "<div>\n<style scoped>\n    .dataframe tbody tr th:only-of-type {\n        vertical-align: middle;\n    }\n\n    .dataframe tbody tr th {\n        vertical-align: top;\n    }\n\n    .dataframe thead th {\n        text-align: right;\n    }\n</style>\n<table border=\"1\" class=\"dataframe\">\n  <thead>\n    <tr style=\"text-align: right;\">\n      <th></th>\n      <th>clusterid</th>\n      <th>linkid</th>\n      <th>order</th>\n      <th>stationname</th>\n      <th>latitude</th>\n      <th>longitude</th>\n    </tr>\n  </thead>\n  <tbody>\n    <tr>\n      <th>0</th>\n      <td>[3]</td>\n      <td>1</td>\n      <td>1</td>\n      <td>KPD</td>\n      <td>12.980000</td>\n      <td>79.13</td>\n    </tr>\n    <tr>\n      <th>1</th>\n      <td>[3]</td>\n      <td>1</td>\n      <td>2</td>\n      <td>VN</td>\n      <td>12.687200</td>\n      <td>78.6303</td>\n    </tr>\n    <tr>\n      <th>2</th>\n      <td>[3]</td>\n      <td>2</td>\n      <td>1</td>\n      <td>KPD</td>\n      <td>12.980000</td>\n      <td>79.13</td>\n    </tr>\n    <tr>\n      <th>3</th>\n      <td>[3]</td>\n      <td>2</td>\n      <td>2</td>\n      <td>AB</td>\n      <td>12.790361</td>\n      <td>78.7166</td>\n    </tr>\n    <tr>\n      <th>4</th>\n      <td>[3]</td>\n      <td>3</td>\n      <td>1</td>\n      <td>KPD</td>\n      <td>12.980000</td>\n      <td>79.13</td>\n    </tr>\n    <tr>\n      <th>5</th>\n      <td>[3]</td>\n      <td>3</td>\n      <td>2</td>\n      <td>SA</td>\n      <td>11.664325</td>\n      <td>78.146</td>\n    </tr>\n    <tr>\n      <th>6</th>\n      <td>[3]</td>\n      <td>4</td>\n      <td>1</td>\n      <td>KPD</td>\n      <td>12.980000</td>\n      <td>79.13</td>\n    </tr>\n    <tr>\n      <th>7</th>\n      <td>[3]</td>\n      <td>4</td>\n      <td>2</td>\n      <td>MAS</td>\n      <td>13.054040</td>\n      <td>80.2293</td>\n    </tr>\n    <tr>\n      <th>8</th>\n      <td>[1]</td>\n      <td>5</td>\n      <td>1</td>\n      <td>KPD</td>\n      <td>12.980000</td>\n      <td>79.13</td>\n    </tr>\n    <tr>\n      <th>9</th>\n      <td>[1]</td>\n      <td>5</td>\n      <td>2</td>\n      <td>MCN</td>\n      <td>12.972100</td>\n      <td>79.2874</td>\n    </tr>\n    <tr>\n      <th>10</th>\n      <td>[1]</td>\n      <td>6</td>\n      <td>1</td>\n      <td>KPD</td>\n      <td>12.980000</td>\n      <td>79.13</td>\n    </tr>\n    <tr>\n      <th>11</th>\n      <td>[1]</td>\n      <td>6</td>\n      <td>2</td>\n      <td>AJJ</td>\n      <td>13.075239</td>\n      <td>79.6558</td>\n    </tr>\n    <tr>\n      <th>12</th>\n      <td>[1]</td>\n      <td>7</td>\n      <td>1</td>\n      <td>KPD</td>\n      <td>12.980000</td>\n      <td>79.13</td>\n    </tr>\n    <tr>\n      <th>13</th>\n      <td>[1]</td>\n      <td>7</td>\n      <td>2</td>\n      <td>GYM</td>\n      <td>12.944180</td>\n      <td>78.8714</td>\n    </tr>\n    <tr>\n      <th>14</th>\n      <td>[1]</td>\n      <td>8</td>\n      <td>1</td>\n      <td>KPD</td>\n      <td>12.980000</td>\n      <td>79.13</td>\n    </tr>\n    <tr>\n      <th>15</th>\n      <td>[1]</td>\n      <td>8</td>\n      <td>2</td>\n      <td>JTJ</td>\n      <td>12.592460</td>\n      <td>78.5749</td>\n    </tr>\n    <tr>\n      <th>16</th>\n      <td>[1]</td>\n      <td>9</td>\n      <td>1</td>\n      <td>VAK</td>\n      <td>8.740300</td>\n      <td>76.7234</td>\n    </tr>\n    <tr>\n      <th>17</th>\n      <td>[1]</td>\n      <td>9</td>\n      <td>2</td>\n      <td>QLN</td>\n      <td>8.893200</td>\n      <td>76.6141</td>\n    </tr>\n    <tr>\n      <th>18</th>\n      <td>[1]</td>\n      <td>10</td>\n      <td>1</td>\n      <td>VAK</td>\n      <td>8.740300</td>\n      <td>76.7234</td>\n    </tr>\n    <tr>\n      <th>19</th>\n      <td>[1]</td>\n      <td>10</td>\n      <td>2</td>\n      <td>KVU</td>\n      <td>8.678699</td>\n      <td>76.7676</td>\n    </tr>\n    <tr>\n      <th>20</th>\n      <td>[1]</td>\n      <td>11</td>\n      <td>1</td>\n      <td>VAK</td>\n      <td>8.740300</td>\n      <td>76.7234</td>\n    </tr>\n    <tr>\n      <th>21</th>\n      <td>[1]</td>\n      <td>11</td>\n      <td>2</td>\n      <td>TVP</td>\n      <td>8.489750</td>\n      <td>76.9317</td>\n    </tr>\n    <tr>\n      <th>22</th>\n      <td>[1]</td>\n      <td>12</td>\n      <td>1</td>\n      <td>VAK</td>\n      <td>8.740300</td>\n      <td>76.7234</td>\n    </tr>\n    <tr>\n      <th>23</th>\n      <td>[1]</td>\n      <td>12</td>\n      <td>2</td>\n      <td>TVC</td>\n      <td>8.486900</td>\n      <td>76.9528</td>\n    </tr>\n    <tr>\n      <th>24</th>\n      <td>[1]</td>\n      <td>13</td>\n      <td>1</td>\n      <td>VAK</td>\n      <td>8.740300</td>\n      <td>76.7234</td>\n    </tr>\n    <tr>\n      <th>25</th>\n      <td>[1]</td>\n      <td>13</td>\n      <td>2</td>\n      <td>PVU</td>\n      <td>10.141500</td>\n      <td>76.2362</td>\n    </tr>\n    <tr>\n      <th>26</th>\n      <td>[1]</td>\n      <td>14</td>\n      <td>1</td>\n      <td>MLMR</td>\n      <td>12.435330</td>\n      <td>79.8329</td>\n    </tr>\n    <tr>\n      <th>27</th>\n      <td>[1]</td>\n      <td>14</td>\n      <td>2</td>\n      <td>TMV</td>\n      <td>12.229380</td>\n      <td>79.6513</td>\n    </tr>\n    <tr>\n      <th>28</th>\n      <td>[1]</td>\n      <td>15</td>\n      <td>1</td>\n      <td>MLMR</td>\n      <td>12.435330</td>\n      <td>79.8329</td>\n    </tr>\n    <tr>\n      <th>29</th>\n      <td>[1]</td>\n      <td>15</td>\n      <td>2</td>\n      <td>MMK</td>\n      <td>12.508900</td>\n      <td>79.8847</td>\n    </tr>\n    <tr>\n      <th>...</th>\n      <td>...</td>\n      <td>...</td>\n      <td>...</td>\n      <td>...</td>\n      <td>...</td>\n      <td>...</td>\n    </tr>\n    <tr>\n      <th>434</th>\n      <td>[2]</td>\n      <td>218</td>\n      <td>1</td>\n      <td>PVU</td>\n      <td>10.141500</td>\n      <td>76.2362</td>\n    </tr>\n    <tr>\n      <th>435</th>\n      <td>[2]</td>\n      <td>218</td>\n      <td>2</td>\n      <td>VAK</td>\n      <td>8.740300</td>\n      <td>76.7234</td>\n    </tr>\n    <tr>\n      <th>436</th>\n      <td>[2]</td>\n      <td>219</td>\n      <td>1</td>\n      <td>PVU</td>\n      <td>10.141500</td>\n      <td>76.2362</td>\n    </tr>\n    <tr>\n      <th>437</th>\n      <td>[2]</td>\n      <td>219</td>\n      <td>2</td>\n      <td>QLN</td>\n      <td>8.893200</td>\n      <td>76.6141</td>\n    </tr>\n    <tr>\n      <th>438</th>\n      <td>[0]</td>\n      <td>220</td>\n      <td>1</td>\n      <td>PNDM</td>\n      <td>11.407200</td>\n      <td>79.2409</td>\n    </tr>\n    <tr>\n      <th>439</th>\n      <td>[0]</td>\n      <td>220</td>\n      <td>2</td>\n      <td>ALU</td>\n      <td>11.140059</td>\n      <td>79.0786</td>\n    </tr>\n    <tr>\n      <th>440</th>\n      <td>[0]</td>\n      <td>221</td>\n      <td>1</td>\n      <td>PNDM</td>\n      <td>11.407200</td>\n      <td>79.2409</td>\n    </tr>\n    <tr>\n      <th>441</th>\n      <td>[0]</td>\n      <td>221</td>\n      <td>2</td>\n      <td>VRI</td>\n      <td>11.517000</td>\n      <td>79.3238</td>\n    </tr>\n    <tr>\n      <th>442</th>\n      <td>[3]</td>\n      <td>222</td>\n      <td>1</td>\n      <td>JTJ</td>\n      <td>12.592460</td>\n      <td>78.5749</td>\n    </tr>\n    <tr>\n      <th>443</th>\n      <td>[3]</td>\n      <td>222</td>\n      <td>2</td>\n      <td>KPD</td>\n      <td>12.980000</td>\n      <td>79.13</td>\n    </tr>\n    <tr>\n      <th>444</th>\n      <td>[2]</td>\n      <td>223</td>\n      <td>1</td>\n      <td>JTJ</td>\n      <td>12.592460</td>\n      <td>78.5749</td>\n    </tr>\n    <tr>\n      <th>445</th>\n      <td>[2]</td>\n      <td>223</td>\n      <td>2</td>\n      <td>VN</td>\n      <td>12.687200</td>\n      <td>78.6303</td>\n    </tr>\n    <tr>\n      <th>446</th>\n      <td>[0]</td>\n      <td>224</td>\n      <td>1</td>\n      <td>JTJ</td>\n      <td>12.592460</td>\n      <td>78.5749</td>\n    </tr>\n    <tr>\n      <th>447</th>\n      <td>[0]</td>\n      <td>224</td>\n      <td>2</td>\n      <td>BQI</td>\n      <td>11.984438</td>\n      <td>78.249</td>\n    </tr>\n    <tr>\n      <th>448</th>\n      <td>[3]</td>\n      <td>225</td>\n      <td>1</td>\n      <td>JTJ</td>\n      <td>12.592460</td>\n      <td>78.5749</td>\n    </tr>\n    <tr>\n      <th>449</th>\n      <td>[3]</td>\n      <td>225</td>\n      <td>2</td>\n      <td>SA</td>\n      <td>11.664325</td>\n      <td>78.146</td>\n    </tr>\n    <tr>\n      <th>450</th>\n      <td>[0]</td>\n      <td>226</td>\n      <td>1</td>\n      <td>JTJ</td>\n      <td>12.592460</td>\n      <td>78.5749</td>\n    </tr>\n    <tr>\n      <th>451</th>\n      <td>[0]</td>\n      <td>226</td>\n      <td>2</td>\n      <td>TPT</td>\n      <td>12.495000</td>\n      <td>78.5678</td>\n    </tr>\n    <tr>\n      <th>452</th>\n      <td>[2]</td>\n      <td>227</td>\n      <td>1</td>\n      <td>CRY</td>\n      <td>8.606060</td>\n      <td>76.841</td>\n    </tr>\n    <tr>\n      <th>453</th>\n      <td>[2]</td>\n      <td>227</td>\n      <td>2</td>\n      <td>KVU</td>\n      <td>8.678699</td>\n      <td>76.7676</td>\n    </tr>\n    <tr>\n      <th>454</th>\n      <td>[0]</td>\n      <td>228</td>\n      <td>1</td>\n      <td>CRY</td>\n      <td>8.606060</td>\n      <td>76.841</td>\n    </tr>\n    <tr>\n      <th>455</th>\n      <td>[0]</td>\n      <td>228</td>\n      <td>2</td>\n      <td>TVP</td>\n      <td>8.489750</td>\n      <td>76.9317</td>\n    </tr>\n    <tr>\n      <th>456</th>\n      <td>[0]</td>\n      <td>229</td>\n      <td>1</td>\n      <td>CRY</td>\n      <td>8.606060</td>\n      <td>76.841</td>\n    </tr>\n    <tr>\n      <th>457</th>\n      <td>[0]</td>\n      <td>229</td>\n      <td>2</td>\n      <td>TVC</td>\n      <td>8.486900</td>\n      <td>76.9528</td>\n    </tr>\n    <tr>\n      <th>458</th>\n      <td>[2]</td>\n      <td>230</td>\n      <td>1</td>\n      <td>MEJ</td>\n      <td>8.882000</td>\n      <td>8.882</td>\n    </tr>\n    <tr>\n      <th>459</th>\n      <td>[2]</td>\n      <td>230</td>\n      <td>2</td>\n      <td>TEN</td>\n      <td>8.713913</td>\n      <td>77.7567</td>\n    </tr>\n    <tr>\n      <th>460</th>\n      <td>[0]</td>\n      <td>231</td>\n      <td>1</td>\n      <td>MEJ</td>\n      <td>8.882000</td>\n      <td>8.882</td>\n    </tr>\n    <tr>\n      <th>461</th>\n      <td>[0]</td>\n      <td>231</td>\n      <td>2</td>\n      <td>CVP</td>\n      <td>9.167414</td>\n      <td>77.8767</td>\n    </tr>\n    <tr>\n      <th>462</th>\n      <td>[2]</td>\n      <td>232</td>\n      <td>1</td>\n      <td>MEJ</td>\n      <td>8.882000</td>\n      <td>8.882</td>\n    </tr>\n    <tr>\n      <th>463</th>\n      <td>[2]</td>\n      <td>232</td>\n      <td>2</td>\n      <td>KDU</td>\n      <td>8.999870</td>\n      <td>77.862</td>\n    </tr>\n  </tbody>\n</table>\n<p>464 rows × 6 columns</p>\n</div>",
            "text/plain": "    clusterid linkid order stationname   latitude longitude\n0         [3]      1     1         KPD  12.980000     79.13\n1         [3]      1     2          VN  12.687200   78.6303\n2         [3]      2     1         KPD  12.980000     79.13\n3         [3]      2     2          AB  12.790361   78.7166\n4         [3]      3     1         KPD  12.980000     79.13\n5         [3]      3     2          SA  11.664325    78.146\n6         [3]      4     1         KPD  12.980000     79.13\n7         [3]      4     2         MAS  13.054040   80.2293\n8         [1]      5     1         KPD  12.980000     79.13\n9         [1]      5     2         MCN  12.972100   79.2874\n10        [1]      6     1         KPD  12.980000     79.13\n11        [1]      6     2         AJJ  13.075239   79.6558\n12        [1]      7     1         KPD  12.980000     79.13\n13        [1]      7     2         GYM  12.944180   78.8714\n14        [1]      8     1         KPD  12.980000     79.13\n15        [1]      8     2         JTJ  12.592460   78.5749\n16        [1]      9     1         VAK   8.740300   76.7234\n17        [1]      9     2         QLN   8.893200   76.6141\n18        [1]     10     1         VAK   8.740300   76.7234\n19        [1]     10     2         KVU   8.678699   76.7676\n20        [1]     11     1         VAK   8.740300   76.7234\n21        [1]     11     2         TVP   8.489750   76.9317\n22        [1]     12     1         VAK   8.740300   76.7234\n23        [1]     12     2         TVC   8.486900   76.9528\n24        [1]     13     1         VAK   8.740300   76.7234\n25        [1]     13     2         PVU  10.141500   76.2362\n26        [1]     14     1        MLMR  12.435330   79.8329\n27        [1]     14     2         TMV  12.229380   79.6513\n28        [1]     15     1        MLMR  12.435330   79.8329\n29        [1]     15     2         MMK  12.508900   79.8847\n..        ...    ...   ...         ...        ...       ...\n434       [2]    218     1         PVU  10.141500   76.2362\n435       [2]    218     2         VAK   8.740300   76.7234\n436       [2]    219     1         PVU  10.141500   76.2362\n437       [2]    219     2         QLN   8.893200   76.6141\n438       [0]    220     1        PNDM  11.407200   79.2409\n439       [0]    220     2         ALU  11.140059   79.0786\n440       [0]    221     1        PNDM  11.407200   79.2409\n441       [0]    221     2         VRI  11.517000   79.3238\n442       [3]    222     1         JTJ  12.592460   78.5749\n443       [3]    222     2         KPD  12.980000     79.13\n444       [2]    223     1         JTJ  12.592460   78.5749\n445       [2]    223     2          VN  12.687200   78.6303\n446       [0]    224     1         JTJ  12.592460   78.5749\n447       [0]    224     2         BQI  11.984438    78.249\n448       [3]    225     1         JTJ  12.592460   78.5749\n449       [3]    225     2          SA  11.664325    78.146\n450       [0]    226     1         JTJ  12.592460   78.5749\n451       [0]    226     2         TPT  12.495000   78.5678\n452       [2]    227     1         CRY   8.606060    76.841\n453       [2]    227     2         KVU   8.678699   76.7676\n454       [0]    228     1         CRY   8.606060    76.841\n455       [0]    228     2         TVP   8.489750   76.9317\n456       [0]    229     1         CRY   8.606060    76.841\n457       [0]    229     2         TVC   8.486900   76.9528\n458       [2]    230     1         MEJ   8.882000     8.882\n459       [2]    230     2         TEN   8.713913   77.7567\n460       [0]    231     1         MEJ   8.882000     8.882\n461       [0]    231     2         CVP   9.167414   77.8767\n462       [2]    232     1         MEJ   8.882000     8.882\n463       [2]    232     2         KDU   8.999870    77.862\n\n[464 rows x 6 columns]"
          },
          "metadata": {}
        }
      ]
    },
    {
      "metadata": {
        "trusted": true
      },
      "cell_type": "code",
      "source": "writer2 = ExcelWriter('fortableau.xlsx')\ntowrite.to_excel(writer2,'Sheet1',index=False)\nwriter2.save()\ndf1=pd.read_excel('fortableau.xlsx')",
      "execution_count": 50,
      "outputs": []
    },
    {
      "metadata": {
        "trusted": true
      },
      "cell_type": "code",
      "source": "df1",
      "execution_count": 51,
      "outputs": [
        {
          "output_type": "execute_result",
          "execution_count": 51,
          "data": {
            "text/html": "<div>\n<style scoped>\n    .dataframe tbody tr th:only-of-type {\n        vertical-align: middle;\n    }\n\n    .dataframe tbody tr th {\n        vertical-align: top;\n    }\n\n    .dataframe thead th {\n        text-align: right;\n    }\n</style>\n<table border=\"1\" class=\"dataframe\">\n  <thead>\n    <tr style=\"text-align: right;\">\n      <th></th>\n      <th>clusterid</th>\n      <th>linkid</th>\n      <th>order</th>\n      <th>stationname</th>\n      <th>latitude</th>\n      <th>longitude</th>\n    </tr>\n  </thead>\n  <tbody>\n    <tr>\n      <th>0</th>\n      <td>[3]</td>\n      <td>1</td>\n      <td>1</td>\n      <td>KPD</td>\n      <td>12.980000</td>\n      <td>79.13</td>\n    </tr>\n    <tr>\n      <th>1</th>\n      <td>[3]</td>\n      <td>1</td>\n      <td>2</td>\n      <td>VN</td>\n      <td>12.687200</td>\n      <td>78.6303</td>\n    </tr>\n    <tr>\n      <th>2</th>\n      <td>[3]</td>\n      <td>2</td>\n      <td>1</td>\n      <td>KPD</td>\n      <td>12.980000</td>\n      <td>79.13</td>\n    </tr>\n    <tr>\n      <th>3</th>\n      <td>[3]</td>\n      <td>2</td>\n      <td>2</td>\n      <td>AB</td>\n      <td>12.790361</td>\n      <td>78.7166</td>\n    </tr>\n    <tr>\n      <th>4</th>\n      <td>[3]</td>\n      <td>3</td>\n      <td>1</td>\n      <td>KPD</td>\n      <td>12.980000</td>\n      <td>79.13</td>\n    </tr>\n    <tr>\n      <th>5</th>\n      <td>[3]</td>\n      <td>3</td>\n      <td>2</td>\n      <td>SA</td>\n      <td>11.664325</td>\n      <td>78.146</td>\n    </tr>\n    <tr>\n      <th>6</th>\n      <td>[3]</td>\n      <td>4</td>\n      <td>1</td>\n      <td>KPD</td>\n      <td>12.980000</td>\n      <td>79.13</td>\n    </tr>\n    <tr>\n      <th>7</th>\n      <td>[3]</td>\n      <td>4</td>\n      <td>2</td>\n      <td>MAS</td>\n      <td>13.054040</td>\n      <td>80.2293</td>\n    </tr>\n    <tr>\n      <th>8</th>\n      <td>[1]</td>\n      <td>5</td>\n      <td>1</td>\n      <td>KPD</td>\n      <td>12.980000</td>\n      <td>79.13</td>\n    </tr>\n    <tr>\n      <th>9</th>\n      <td>[1]</td>\n      <td>5</td>\n      <td>2</td>\n      <td>MCN</td>\n      <td>12.972100</td>\n      <td>79.2874</td>\n    </tr>\n    <tr>\n      <th>10</th>\n      <td>[1]</td>\n      <td>6</td>\n      <td>1</td>\n      <td>KPD</td>\n      <td>12.980000</td>\n      <td>79.13</td>\n    </tr>\n    <tr>\n      <th>11</th>\n      <td>[1]</td>\n      <td>6</td>\n      <td>2</td>\n      <td>AJJ</td>\n      <td>13.075239</td>\n      <td>79.6558</td>\n    </tr>\n    <tr>\n      <th>12</th>\n      <td>[1]</td>\n      <td>7</td>\n      <td>1</td>\n      <td>KPD</td>\n      <td>12.980000</td>\n      <td>79.13</td>\n    </tr>\n    <tr>\n      <th>13</th>\n      <td>[1]</td>\n      <td>7</td>\n      <td>2</td>\n      <td>GYM</td>\n      <td>12.944180</td>\n      <td>78.8714</td>\n    </tr>\n    <tr>\n      <th>14</th>\n      <td>[1]</td>\n      <td>8</td>\n      <td>1</td>\n      <td>KPD</td>\n      <td>12.980000</td>\n      <td>79.13</td>\n    </tr>\n    <tr>\n      <th>15</th>\n      <td>[1]</td>\n      <td>8</td>\n      <td>2</td>\n      <td>JTJ</td>\n      <td>12.592460</td>\n      <td>78.5749</td>\n    </tr>\n    <tr>\n      <th>16</th>\n      <td>[1]</td>\n      <td>9</td>\n      <td>1</td>\n      <td>VAK</td>\n      <td>8.740300</td>\n      <td>76.7234</td>\n    </tr>\n    <tr>\n      <th>17</th>\n      <td>[1]</td>\n      <td>9</td>\n      <td>2</td>\n      <td>QLN</td>\n      <td>8.893200</td>\n      <td>76.6141</td>\n    </tr>\n    <tr>\n      <th>18</th>\n      <td>[1]</td>\n      <td>10</td>\n      <td>1</td>\n      <td>VAK</td>\n      <td>8.740300</td>\n      <td>76.7234</td>\n    </tr>\n    <tr>\n      <th>19</th>\n      <td>[1]</td>\n      <td>10</td>\n      <td>2</td>\n      <td>KVU</td>\n      <td>8.678699</td>\n      <td>76.7676</td>\n    </tr>\n    <tr>\n      <th>20</th>\n      <td>[1]</td>\n      <td>11</td>\n      <td>1</td>\n      <td>VAK</td>\n      <td>8.740300</td>\n      <td>76.7234</td>\n    </tr>\n    <tr>\n      <th>21</th>\n      <td>[1]</td>\n      <td>11</td>\n      <td>2</td>\n      <td>TVP</td>\n      <td>8.489750</td>\n      <td>76.9317</td>\n    </tr>\n    <tr>\n      <th>22</th>\n      <td>[1]</td>\n      <td>12</td>\n      <td>1</td>\n      <td>VAK</td>\n      <td>8.740300</td>\n      <td>76.7234</td>\n    </tr>\n    <tr>\n      <th>23</th>\n      <td>[1]</td>\n      <td>12</td>\n      <td>2</td>\n      <td>TVC</td>\n      <td>8.486900</td>\n      <td>76.9528</td>\n    </tr>\n    <tr>\n      <th>24</th>\n      <td>[1]</td>\n      <td>13</td>\n      <td>1</td>\n      <td>VAK</td>\n      <td>8.740300</td>\n      <td>76.7234</td>\n    </tr>\n    <tr>\n      <th>25</th>\n      <td>[1]</td>\n      <td>13</td>\n      <td>2</td>\n      <td>PVU</td>\n      <td>10.141500</td>\n      <td>76.2362</td>\n    </tr>\n    <tr>\n      <th>26</th>\n      <td>[1]</td>\n      <td>14</td>\n      <td>1</td>\n      <td>MLMR</td>\n      <td>12.435330</td>\n      <td>79.8329</td>\n    </tr>\n    <tr>\n      <th>27</th>\n      <td>[1]</td>\n      <td>14</td>\n      <td>2</td>\n      <td>TMV</td>\n      <td>12.229380</td>\n      <td>79.6513</td>\n    </tr>\n    <tr>\n      <th>28</th>\n      <td>[1]</td>\n      <td>15</td>\n      <td>1</td>\n      <td>MLMR</td>\n      <td>12.435330</td>\n      <td>79.8329</td>\n    </tr>\n    <tr>\n      <th>29</th>\n      <td>[1]</td>\n      <td>15</td>\n      <td>2</td>\n      <td>MMK</td>\n      <td>12.508900</td>\n      <td>79.8847</td>\n    </tr>\n    <tr>\n      <th>...</th>\n      <td>...</td>\n      <td>...</td>\n      <td>...</td>\n      <td>...</td>\n      <td>...</td>\n      <td>...</td>\n    </tr>\n    <tr>\n      <th>434</th>\n      <td>[2]</td>\n      <td>218</td>\n      <td>1</td>\n      <td>PVU</td>\n      <td>10.141500</td>\n      <td>76.2362</td>\n    </tr>\n    <tr>\n      <th>435</th>\n      <td>[2]</td>\n      <td>218</td>\n      <td>2</td>\n      <td>VAK</td>\n      <td>8.740300</td>\n      <td>76.7234</td>\n    </tr>\n    <tr>\n      <th>436</th>\n      <td>[2]</td>\n      <td>219</td>\n      <td>1</td>\n      <td>PVU</td>\n      <td>10.141500</td>\n      <td>76.2362</td>\n    </tr>\n    <tr>\n      <th>437</th>\n      <td>[2]</td>\n      <td>219</td>\n      <td>2</td>\n      <td>QLN</td>\n      <td>8.893200</td>\n      <td>76.6141</td>\n    </tr>\n    <tr>\n      <th>438</th>\n      <td>[0]</td>\n      <td>220</td>\n      <td>1</td>\n      <td>PNDM</td>\n      <td>11.407200</td>\n      <td>79.2409</td>\n    </tr>\n    <tr>\n      <th>439</th>\n      <td>[0]</td>\n      <td>220</td>\n      <td>2</td>\n      <td>ALU</td>\n      <td>11.140059</td>\n      <td>79.0786</td>\n    </tr>\n    <tr>\n      <th>440</th>\n      <td>[0]</td>\n      <td>221</td>\n      <td>1</td>\n      <td>PNDM</td>\n      <td>11.407200</td>\n      <td>79.2409</td>\n    </tr>\n    <tr>\n      <th>441</th>\n      <td>[0]</td>\n      <td>221</td>\n      <td>2</td>\n      <td>VRI</td>\n      <td>11.517000</td>\n      <td>79.3238</td>\n    </tr>\n    <tr>\n      <th>442</th>\n      <td>[3]</td>\n      <td>222</td>\n      <td>1</td>\n      <td>JTJ</td>\n      <td>12.592460</td>\n      <td>78.5749</td>\n    </tr>\n    <tr>\n      <th>443</th>\n      <td>[3]</td>\n      <td>222</td>\n      <td>2</td>\n      <td>KPD</td>\n      <td>12.980000</td>\n      <td>79.13</td>\n    </tr>\n    <tr>\n      <th>444</th>\n      <td>[2]</td>\n      <td>223</td>\n      <td>1</td>\n      <td>JTJ</td>\n      <td>12.592460</td>\n      <td>78.5749</td>\n    </tr>\n    <tr>\n      <th>445</th>\n      <td>[2]</td>\n      <td>223</td>\n      <td>2</td>\n      <td>VN</td>\n      <td>12.687200</td>\n      <td>78.6303</td>\n    </tr>\n    <tr>\n      <th>446</th>\n      <td>[0]</td>\n      <td>224</td>\n      <td>1</td>\n      <td>JTJ</td>\n      <td>12.592460</td>\n      <td>78.5749</td>\n    </tr>\n    <tr>\n      <th>447</th>\n      <td>[0]</td>\n      <td>224</td>\n      <td>2</td>\n      <td>BQI</td>\n      <td>11.984438</td>\n      <td>78.249</td>\n    </tr>\n    <tr>\n      <th>448</th>\n      <td>[3]</td>\n      <td>225</td>\n      <td>1</td>\n      <td>JTJ</td>\n      <td>12.592460</td>\n      <td>78.5749</td>\n    </tr>\n    <tr>\n      <th>449</th>\n      <td>[3]</td>\n      <td>225</td>\n      <td>2</td>\n      <td>SA</td>\n      <td>11.664325</td>\n      <td>78.146</td>\n    </tr>\n    <tr>\n      <th>450</th>\n      <td>[0]</td>\n      <td>226</td>\n      <td>1</td>\n      <td>JTJ</td>\n      <td>12.592460</td>\n      <td>78.5749</td>\n    </tr>\n    <tr>\n      <th>451</th>\n      <td>[0]</td>\n      <td>226</td>\n      <td>2</td>\n      <td>TPT</td>\n      <td>12.495000</td>\n      <td>78.5678</td>\n    </tr>\n    <tr>\n      <th>452</th>\n      <td>[2]</td>\n      <td>227</td>\n      <td>1</td>\n      <td>CRY</td>\n      <td>8.606060</td>\n      <td>76.841</td>\n    </tr>\n    <tr>\n      <th>453</th>\n      <td>[2]</td>\n      <td>227</td>\n      <td>2</td>\n      <td>KVU</td>\n      <td>8.678699</td>\n      <td>76.7676</td>\n    </tr>\n    <tr>\n      <th>454</th>\n      <td>[0]</td>\n      <td>228</td>\n      <td>1</td>\n      <td>CRY</td>\n      <td>8.606060</td>\n      <td>76.841</td>\n    </tr>\n    <tr>\n      <th>455</th>\n      <td>[0]</td>\n      <td>228</td>\n      <td>2</td>\n      <td>TVP</td>\n      <td>8.489750</td>\n      <td>76.9317</td>\n    </tr>\n    <tr>\n      <th>456</th>\n      <td>[0]</td>\n      <td>229</td>\n      <td>1</td>\n      <td>CRY</td>\n      <td>8.606060</td>\n      <td>76.841</td>\n    </tr>\n    <tr>\n      <th>457</th>\n      <td>[0]</td>\n      <td>229</td>\n      <td>2</td>\n      <td>TVC</td>\n      <td>8.486900</td>\n      <td>76.9528</td>\n    </tr>\n    <tr>\n      <th>458</th>\n      <td>[2]</td>\n      <td>230</td>\n      <td>1</td>\n      <td>MEJ</td>\n      <td>8.882000</td>\n      <td>8.882</td>\n    </tr>\n    <tr>\n      <th>459</th>\n      <td>[2]</td>\n      <td>230</td>\n      <td>2</td>\n      <td>TEN</td>\n      <td>8.713913</td>\n      <td>77.7567</td>\n    </tr>\n    <tr>\n      <th>460</th>\n      <td>[0]</td>\n      <td>231</td>\n      <td>1</td>\n      <td>MEJ</td>\n      <td>8.882000</td>\n      <td>8.882</td>\n    </tr>\n    <tr>\n      <th>461</th>\n      <td>[0]</td>\n      <td>231</td>\n      <td>2</td>\n      <td>CVP</td>\n      <td>9.167414</td>\n      <td>77.8767</td>\n    </tr>\n    <tr>\n      <th>462</th>\n      <td>[2]</td>\n      <td>232</td>\n      <td>1</td>\n      <td>MEJ</td>\n      <td>8.882000</td>\n      <td>8.882</td>\n    </tr>\n    <tr>\n      <th>463</th>\n      <td>[2]</td>\n      <td>232</td>\n      <td>2</td>\n      <td>KDU</td>\n      <td>8.999870</td>\n      <td>77.862</td>\n    </tr>\n  </tbody>\n</table>\n<p>464 rows × 6 columns</p>\n</div>",
            "text/plain": "    clusterid  linkid  order stationname   latitude longitude\n0         [3]       1      1         KPD  12.980000     79.13\n1         [3]       1      2          VN  12.687200   78.6303\n2         [3]       2      1         KPD  12.980000     79.13\n3         [3]       2      2          AB  12.790361   78.7166\n4         [3]       3      1         KPD  12.980000     79.13\n5         [3]       3      2          SA  11.664325    78.146\n6         [3]       4      1         KPD  12.980000     79.13\n7         [3]       4      2         MAS  13.054040   80.2293\n8         [1]       5      1         KPD  12.980000     79.13\n9         [1]       5      2         MCN  12.972100   79.2874\n10        [1]       6      1         KPD  12.980000     79.13\n11        [1]       6      2         AJJ  13.075239   79.6558\n12        [1]       7      1         KPD  12.980000     79.13\n13        [1]       7      2         GYM  12.944180   78.8714\n14        [1]       8      1         KPD  12.980000     79.13\n15        [1]       8      2         JTJ  12.592460   78.5749\n16        [1]       9      1         VAK   8.740300   76.7234\n17        [1]       9      2         QLN   8.893200   76.6141\n18        [1]      10      1         VAK   8.740300   76.7234\n19        [1]      10      2         KVU   8.678699   76.7676\n20        [1]      11      1         VAK   8.740300   76.7234\n21        [1]      11      2         TVP   8.489750   76.9317\n22        [1]      12      1         VAK   8.740300   76.7234\n23        [1]      12      2         TVC   8.486900   76.9528\n24        [1]      13      1         VAK   8.740300   76.7234\n25        [1]      13      2         PVU  10.141500   76.2362\n26        [1]      14      1        MLMR  12.435330   79.8329\n27        [1]      14      2         TMV  12.229380   79.6513\n28        [1]      15      1        MLMR  12.435330   79.8329\n29        [1]      15      2         MMK  12.508900   79.8847\n..        ...     ...    ...         ...        ...       ...\n434       [2]     218      1         PVU  10.141500   76.2362\n435       [2]     218      2         VAK   8.740300   76.7234\n436       [2]     219      1         PVU  10.141500   76.2362\n437       [2]     219      2         QLN   8.893200   76.6141\n438       [0]     220      1        PNDM  11.407200   79.2409\n439       [0]     220      2         ALU  11.140059   79.0786\n440       [0]     221      1        PNDM  11.407200   79.2409\n441       [0]     221      2         VRI  11.517000   79.3238\n442       [3]     222      1         JTJ  12.592460   78.5749\n443       [3]     222      2         KPD  12.980000     79.13\n444       [2]     223      1         JTJ  12.592460   78.5749\n445       [2]     223      2          VN  12.687200   78.6303\n446       [0]     224      1         JTJ  12.592460   78.5749\n447       [0]     224      2         BQI  11.984438    78.249\n448       [3]     225      1         JTJ  12.592460   78.5749\n449       [3]     225      2          SA  11.664325    78.146\n450       [0]     226      1         JTJ  12.592460   78.5749\n451       [0]     226      2         TPT  12.495000   78.5678\n452       [2]     227      1         CRY   8.606060    76.841\n453       [2]     227      2         KVU   8.678699   76.7676\n454       [0]     228      1         CRY   8.606060    76.841\n455       [0]     228      2         TVP   8.489750   76.9317\n456       [0]     229      1         CRY   8.606060    76.841\n457       [0]     229      2         TVC   8.486900   76.9528\n458       [2]     230      1         MEJ   8.882000     8.882\n459       [2]     230      2         TEN   8.713913   77.7567\n460       [0]     231      1         MEJ   8.882000     8.882\n461       [0]     231      2         CVP   9.167414   77.8767\n462       [2]     232      1         MEJ   8.882000     8.882\n463       [2]     232      2         KDU   8.999870    77.862\n\n[464 rows x 6 columns]"
          },
          "metadata": {}
        }
      ]
    },
    {
      "metadata": {
        "trusted": true
      },
      "cell_type": "code",
      "source": "",
      "execution_count": null,
      "outputs": []
    }
  ],
  "metadata": {
    "kernelspec": {
      "name": "python36",
      "display_name": "Python 3.6",
      "language": "python"
    },
    "language_info": {
      "mimetype": "text/x-python",
      "nbconvert_exporter": "python",
      "name": "python",
      "pygments_lexer": "ipython3",
      "version": "3.6.6",
      "file_extension": ".py",
      "codemirror_mode": {
        "version": 3,
        "name": "ipython"
      }
    }
  },
  "nbformat": 4,
  "nbformat_minor": 2
}