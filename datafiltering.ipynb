{
  "cells": [
    {
      "metadata": {
        "trusted": true
      },
      "cell_type": "code",
      "source": "import pandas as pd\nimport numpy as np\nfrom pandas import ExcelWriter\nfrom pandas import ExcelFile",
      "execution_count": 1,
      "outputs": []
    },
    {
      "metadata": {
        "trusted": true
      },
      "cell_type": "code",
      "source": "delay=pd.read_excel('delaydata.xlsx')\ncode=pd.read_excel('stationdata.xlsx')\n",
      "execution_count": 2,
      "outputs": []
    },
    {
      "metadata": {
        "trusted": true
      },
      "cell_type": "code",
      "source": "towrite1  = pd.DataFrame(columns=['trainno', 'from', 'to','delay'])",
      "execution_count": 3,
      "outputs": []
    },
    {
      "metadata": {
        "trusted": true
      },
      "cell_type": "code",
      "source": "def findstatcode(from1,stationname):\n    k=0\n    flag=0\n    for i in range(0,len(stationname)):\n        if(from1==stationname[i]):\n            flag=1\n            k=i\n            break\n    if(flag==1):\n        return k\n    else:\n        return -1\n            \n    \n        \n        \nstationname=list(code['STAT'])\nstationcode=list(code['code'])\nfromst=list(delay['from'])\ntost=list(delay['to'])\ntrainnum=list(delay['trainno'])\ndelaytime=list(delay['delay'])\n#fromst1=[]\n#tost1=[]\n#trainnum1=[]\n#delaytime1=[]\nfor ind in range(0,len(fromst)):\n    from1=fromst[ind]\n    to1=tost[ind]\n    y=findstatcode(from1,stationname)\n    if(y!=-1):\n        h=findstatcode(to1,stationname)\n        if(h!=-1):\n            fromst[ind]=stationcode[y]\n            tost[ind]=stationcode[h]\n            towrite1=towrite1.append({'trainno':trainnum[ind], 'from':fromst[ind],'to':tost[ind],'delay':delaytime[ind]}, ignore_index=True)\n            \n            \n            \n    \n        \n        \n  \n        \n        \n        \n        \n        \n\n",
      "execution_count": 4,
      "outputs": []
    },
    {
      "metadata": {
        "trusted": true
      },
      "cell_type": "code",
      "source": "writer = ExcelWriter('delaydatafilter.xlsx')\ntowrite1.to_excel(writer,'Sheet1',index=False)\nwriter.save()\n#df1=pd.read_excel('delaydatafilter.xlsx')\n",
      "execution_count": 5,
      "outputs": []
    },
    {
      "metadata": {
        "trusted": true
      },
      "cell_type": "code",
      "source": "df1=pd.read_excel('delaydatafilter.xlsx')\n",
      "execution_count": 6,
      "outputs": []
    },
    {
      "metadata": {
        "trusted": true
      },
      "cell_type": "code",
      "source": "print(len(list(df1['from'])))\n#li1=list(set(code['code']))\n",
      "execution_count": 7,
      "outputs": [
        {
          "output_type": "stream",
          "text": "5197\n",
          "name": "stdout"
        }
      ]
    },
    {
      "metadata": {
        "trusted": true
      },
      "cell_type": "code",
      "source": "\n        ",
      "execution_count": null,
      "outputs": []
    },
    {
      "metadata": {
        "trusted": true
      },
      "cell_type": "code",
      "source": "",
      "execution_count": null,
      "outputs": []
    },
    {
      "metadata": {
        "trusted": true
      },
      "cell_type": "code",
      "source": "",
      "execution_count": null,
      "outputs": []
    },
    {
      "metadata": {
        "trusted": true
      },
      "cell_type": "code",
      "source": "",
      "execution_count": null,
      "outputs": []
    },
    {
      "metadata": {
        "trusted": true
      },
      "cell_type": "code",
      "source": "\n",
      "execution_count": null,
      "outputs": []
    },
    {
      "metadata": {
        "trusted": true
      },
      "cell_type": "code",
      "source": "",
      "execution_count": null,
      "outputs": []
    },
    {
      "metadata": {
        "trusted": true
      },
      "cell_type": "code",
      "source": "",
      "execution_count": null,
      "outputs": []
    }
  ],
  "metadata": {
    "kernelspec": {
      "name": "python36",
      "display_name": "Python 3.6",
      "language": "python"
    },
    "language_info": {
      "mimetype": "text/x-python",
      "nbconvert_exporter": "python",
      "name": "python",
      "pygments_lexer": "ipython3",
      "version": "3.6.6",
      "file_extension": ".py",
      "codemirror_mode": {
        "version": 3,
        "name": "ipython"
      }
    }
  },
  "nbformat": 4,
  "nbformat_minor": 2
}